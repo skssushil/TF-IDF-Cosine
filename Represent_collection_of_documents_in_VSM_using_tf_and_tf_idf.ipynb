{
  "nbformat": 4,
  "nbformat_minor": 0,
  "metadata": {
    "colab": {
      "name": "Represent collection of documents in VSM using tf and tf*idf.ipynb",
      "provenance": [],
      "authorship_tag": "ABX9TyNesoNgSyOqLVAQmBgENwUJ",
      "include_colab_link": true
    },
    "kernelspec": {
      "name": "python3",
      "display_name": "Python 3"
    }
  },
  "cells": [
    {
      "cell_type": "markdown",
      "metadata": {
        "id": "view-in-github",
        "colab_type": "text"
      },
      "source": [
        "<a href=\"https://colab.research.google.com/github/skssushil/TF-IDF-Cosine/blob/master/Represent_collection_of_documents_in_VSM_using_tf_and_tf_idf.ipynb\" target=\"_parent\"><img src=\"https://colab.research.google.com/assets/colab-badge.svg\" alt=\"Open In Colab\"/></a>"
      ]
    },
    {
      "cell_type": "code",
      "metadata": {
        "id": "-cTyXW7YntUn",
        "colab_type": "code",
        "colab": {}
      },
      "source": [
        "from nltk.corpus import stopwords\n",
        "from nltk.tokenize import word_tokenize\n",
        "from nltk.stem import PorterStemmer\n",
        "from collections import Counter\n",
        "import nltk\n",
        "import os\n",
        "import string\n",
        "import numpy as np\n",
        "import copy\n",
        "import pandas as pd\n",
        "import pickle\n",
        "import re\n",
        "import math"
      ],
      "execution_count": null,
      "outputs": []
    },
    {
      "cell_type": "code",
      "metadata": {
        "id": "1YsHZmMrn5gg",
        "colab_type": "code",
        "colab": {}
      },
      "source": [
        "import io\n",
        "with open('CISI.ALL') as f:\n",
        "    lines = \"\"\n",
        "    for l in f.readlines():\n",
        "        lines += \"\\n\" + l.strip() if l.startswith(\".\") else \" \" + l.strip()\n",
        "    lines = lines.lstrip(\"\\n\").split(\"\\n\")"
      ],
      "execution_count": null,
      "outputs": []
    },
    {
      "cell_type": "code",
      "metadata": {
        "id": "M-dlf5Nzn8fV",
        "colab_type": "code",
        "colab": {}
      },
      "source": [
        "doc_set = {}\n",
        "doc_id = \"\"\n",
        "doc_text = \"\"\n",
        "for l in lines:\n",
        "    if l.startswith(\".I\"):\n",
        "        doc_id = l.split(\" \")[1].strip()\n",
        "    elif l.startswith(\".X\"):\n",
        "        doc_set[doc_id] = doc_text.lstrip(\" \")\n",
        "        doc_id = \"\"\n",
        "        doc_text = \"\"\n",
        "    else:\n",
        "        doc_text += l.strip()[3:] + \" \" # The first 3 characters of a line can be ignored."
      ],
      "execution_count": null,
      "outputs": []
    },
    {
      "cell_type": "code",
      "metadata": {
        "id": "IQWJoeKosKsc",
        "colab_type": "code",
        "colab": {}
      },
      "source": [
        "dataset = []\n",
        "for i in doc_set.values():\n",
        "  dataset.append(i)"
      ],
      "execution_count": null,
      "outputs": []
    },
    {
      "cell_type": "code",
      "metadata": {
        "id": "FhoCrMqxsPq1",
        "colab_type": "code",
        "colab": {
          "base_uri": "https://localhost:8080/",
          "height": 34
        },
        "outputId": "03e12d19-caef-4ede-8b8e-b5a3863f2963"
      },
      "source": [
        "N=len(dataset)\n",
        "print(N)"
      ],
      "execution_count": null,
      "outputs": [
        {
          "output_type": "stream",
          "text": [
            "1460\n"
          ],
          "name": "stdout"
        }
      ]
    },
    {
      "cell_type": "code",
      "metadata": {
        "id": "GX68WlS48-1f",
        "colab_type": "code",
        "colab": {}
      },
      "source": [
        "import io\n",
        "with open('CISI.QRY') as g:\n",
        "    qlines = \"\"\n",
        "    for m in g.readlines():\n",
        "        qlines += \"\\n\" + m.strip() if m.startswith(\".\") else \" \" + m.strip()\n",
        "    qlines = qlines.lstrip(\"\\n\").split(\"\\n\")"
      ],
      "execution_count": null,
      "outputs": []
    },
    {
      "cell_type": "code",
      "metadata": {
        "id": "9vEevXj69C1V",
        "colab_type": "code",
        "colab": {}
      },
      "source": [
        "qry_set = {}\n",
        "qry_id = \"\"\n",
        "qry_text=\"\"\n",
        "for m in qlines:\n",
        "    if m.startswith(\".I\"):\n",
        "        qry_id = m.split(\" \")[1].strip()\n",
        "    elif m.startswith(\".W\"):\n",
        "        qry_set[qry_id] = m.strip()[3:]\n",
        "        qry_id = \"\"\n",
        "squery=qry_set[\"1\"]"
      ],
      "execution_count": null,
      "outputs": []
    },
    {
      "cell_type": "code",
      "metadata": {
        "id": "wL7xSCXIslYp",
        "colab_type": "code",
        "colab": {}
      },
      "source": [
        "def convert_lower_case(data):\n",
        "    return np.char.lower(data)"
      ],
      "execution_count": null,
      "outputs": []
    },
    {
      "cell_type": "code",
      "metadata": {
        "id": "AD-gvAEqu8ZG",
        "colab_type": "code",
        "colab": {}
      },
      "source": [
        "\n",
        "def remove_stop_words(data):\n",
        "    stop_words = stopwords.words('english')\n",
        "    words = word_tokenize(str(data))\n",
        "    new_text = \"\"\n",
        "    for w in words:\n",
        "        if w not in stop_words and len(w) > 1:\n",
        "            new_text = new_text + \" \" + w\n",
        "    return new_text"
      ],
      "execution_count": null,
      "outputs": []
    },
    {
      "cell_type": "code",
      "metadata": {
        "id": "TMAHI1bru-Im",
        "colab_type": "code",
        "colab": {}
      },
      "source": [
        "def remove_punctuation(data):\n",
        "    symbols = \"!\\\"#$%&()*+-./:;<=>?@[\\]^_`{|}~\\n\"\n",
        "    for i in range(len(symbols)):\n",
        "        data = np.char.replace(data, symbols[i], ' ')\n",
        "        data = np.char.replace(data, \"  \", \" \")\n",
        "    data = np.char.replace(data, ',', '')\n",
        "    return data"
      ],
      "execution_count": null,
      "outputs": []
    },
    {
      "cell_type": "code",
      "metadata": {
        "id": "67kO5X1tvAbJ",
        "colab_type": "code",
        "colab": {}
      },
      "source": [
        "def remove_apostrophe(data):\n",
        "    return np.char.replace(data, \"'\", \"\")"
      ],
      "execution_count": null,
      "outputs": []
    },
    {
      "cell_type": "code",
      "metadata": {
        "id": "EAWZhjkdvCuR",
        "colab_type": "code",
        "colab": {}
      },
      "source": [
        "def stemming(data):\n",
        "    stemmer= PorterStemmer()\n",
        "    \n",
        "    tokens = word_tokenize(str(data))\n",
        "    new_text = \"\"\n",
        "    for w in tokens:\n",
        "        new_text = new_text + \" \" + stemmer.stem(w)\n",
        "    return new_text"
      ],
      "execution_count": null,
      "outputs": []
    },
    {
      "cell_type": "code",
      "metadata": {
        "id": "4ByQPnQ4vFgk",
        "colab_type": "code",
        "colab": {}
      },
      "source": [
        "# import the inflect library \n",
        "import inflect \n",
        "p = inflect.engine() \n",
        "  \n",
        "# convert number into words \n",
        "def convert_number(text): \n",
        "    # split string into list of words \n",
        "    temp_str = text.split() \n",
        "    # initialise empty list \n",
        "    new_string = [] \n",
        "  \n",
        "    for word in temp_str: \n",
        "        # if word is a digit, convert the digit \n",
        "        # to numbers and append into the new_string list \n",
        "        if word.isdigit(): \n",
        "            temp = p.number_to_words(word) \n",
        "            new_string.append(temp) \n",
        "  \n",
        "        # append the word as it is \n",
        "        else: \n",
        "            new_string.append(word) \n",
        "  \n",
        "    # join the words of new_string to form a string \n",
        "    temp_str = ' '.join(new_string) \n",
        "    return temp_str "
      ],
      "execution_count": null,
      "outputs": []
    },
    {
      "cell_type": "code",
      "metadata": {
        "id": "iKqY9tfWvHnb",
        "colab_type": "code",
        "colab": {}
      },
      "source": [
        "def preprocess(data):\n",
        "    data = convert_numbers(data)\n",
        "    data = convert_lower_case(data)\n",
        "    data = remove_punctuation(data) #remove comma seperately\n",
        "    data = remove_apostrophe(data)\n",
        "    data = remove_stop_words(data)\n",
        "    data = stemming(data)\n",
        "    data = remove_punctuation(data)\n",
        "    data = convert_numbers(data)\n",
        "    data = stemming(data) #needed again as we need to stem the words\n",
        "    data = remove_punctuation(data) #needed again as num2word is giving few hypens and commas fourty-one\n",
        "    data = remove_stop_words(data) #needed again as num2word is giving stop words 101 - one hundred and one\n",
        "    return data"
      ],
      "execution_count": null,
      "outputs": []
    },
    {
      "cell_type": "code",
      "metadata": {
        "id": "NPlDNQPTvJsS",
        "colab_type": "code",
        "colab": {}
      },
      "source": [
        "processed_text = []\n",
        "for i in dataset[:N]:\n",
        "    processed_text.append(word_tokenize(str(preprocess(convert_number(i)))))"
      ],
      "execution_count": null,
      "outputs": []
    },
    {
      "cell_type": "code",
      "metadata": {
        "id": "RkehvI7BvfWX",
        "colab_type": "code",
        "colab": {}
      },
      "source": [
        "DF = {}\n",
        "\n",
        "for i in range(N):\n",
        "    tokens = processed_text[i]\n",
        "    for w in tokens:\n",
        "        try:\n",
        "            DF[w].add(i)\n",
        "        except:\n",
        "            DF[w] = {i}\n",
        "for i in DF:\n",
        "    DF[i] = len(DF[i])"
      ],
      "execution_count": null,
      "outputs": []
    },
    {
      "cell_type": "code",
      "metadata": {
        "id": "FLOPZwHUv7J_",
        "colab_type": "code",
        "colab": {
          "base_uri": "https://localhost:8080/",
          "height": 34
        },
        "outputId": "171cb289-36ee-4fff-e2ce-3bdac6a4d66c"
      },
      "source": [
        "total_vocab_size = len(DF)\n",
        "print(total_vocab_size)"
      ],
      "execution_count": null,
      "outputs": [
        {
          "output_type": "stream",
          "text": [
            "7004\n"
          ],
          "name": "stdout"
        }
      ]
    },
    {
      "cell_type": "code",
      "metadata": {
        "id": "TTrKiU7hwGPn",
        "colab_type": "code",
        "colab": {}
      },
      "source": [
        "total_vocab = [x for x in DF]"
      ],
      "execution_count": null,
      "outputs": []
    },
    {
      "cell_type": "code",
      "metadata": {
        "id": "Q83798vXwP65",
        "colab_type": "code",
        "colab": {
          "base_uri": "https://localhost:8080/",
          "height": 54
        },
        "outputId": "26aa50dc-ef54-4af3-a81f-a28d594dd66f"
      },
      "source": [
        "print(total_vocab[:20])"
      ],
      "execution_count": null,
      "outputs": [
        {
          "output_type": "stream",
          "text": [
            "['eighteen', 'edit', 'dewey', 'decim', 'classif', 'comaromi', 'present', 'studi', 'histori', 'first', 'ddc', 'publish', '1876', 'eighteenth', '1971', 'futur', 'continu', 'appear', 'need', 'spite']\n"
          ],
          "name": "stdout"
        }
      ]
    },
    {
      "cell_type": "code",
      "metadata": {
        "id": "mf99rQcvx9F9",
        "colab_type": "code",
        "colab": {}
      },
      "source": [
        "def doc_freq(word):\n",
        "    c = 0\n",
        "    try:\n",
        "        c = DF[word]\n",
        "    except:\n",
        "        pass\n",
        "    return c"
      ],
      "execution_count": null,
      "outputs": []
    },
    {
      "cell_type": "code",
      "metadata": {
        "id": "NGQd-vfiwUDL",
        "colab_type": "code",
        "colab": {}
      },
      "source": [
        "doc = 0\n",
        "tf_idf = {}\n",
        "for i in range(N):    \n",
        "    tokens = processed_text[i]    \n",
        "    counter = Counter(tokens)\n",
        "    words_count = len(tokens)    \n",
        "    for token in np.unique(tokens):        \n",
        "        tf = counter[token]/words_count\n",
        "        df = doc_freq(token)\n",
        "        idf = np.log((N+1)/(df+1))        \n",
        "        tf_idf[doc, token] = tf*idf\n",
        "    doc += 1"
      ],
      "execution_count": null,
      "outputs": []
    },
    {
      "cell_type": "code",
      "metadata": {
        "id": "UWFutrsWxqJa",
        "colab_type": "code",
        "colab": {}
      },
      "source": [
        "doc = 0\n",
        "tf_idf = {}\n",
        "for i in range(N):    \n",
        "    tokens = processed_text[i]    \n",
        "    counter = Counter(tokens)\n",
        "    words_count = len(tokens)    \n",
        "    for token in np.unique(tokens):        \n",
        "        tf = counter[token]/words_count\n",
        "        df = doc_freq(token)\n",
        "        idf = np.log((N+1)/(df+1))        \n",
        "        tf_idf[doc, token] = tf*idf\n",
        "    doc += 1"
      ],
      "execution_count": null,
      "outputs": []
    },
    {
      "cell_type": "code",
      "metadata": {
        "id": "Wgd81dnnyNk2",
        "colab_type": "code",
        "colab": {
          "base_uri": "https://localhost:8080/",
          "height": 34
        },
        "outputId": "9e12df70-46c2-4fa4-9b50-5cd804bda3ac"
      },
      "source": [
        "tf_idf[(0, 'abroad')]"
      ],
      "execution_count": null,
      "outputs": [
        {
          "output_type": "execute_result",
          "data": {
            "text/plain": [
              "0.10774739102985577"
            ]
          },
          "metadata": {
            "tags": []
          },
          "execution_count": 152
        }
      ]
    },
    {
      "cell_type": "code",
      "metadata": {
        "id": "j5CANIK2ytN5",
        "colab_type": "code",
        "colab": {
          "base_uri": "https://localhost:8080/",
          "height": 34
        },
        "outputId": "b5a5c546-3443-4344-8557-040bbb2681ef"
      },
      "source": [
        "len(tf_idf)"
      ],
      "execution_count": null,
      "outputs": [
        {
          "output_type": "execute_result",
          "data": {
            "text/plain": [
              "80132"
            ]
          },
          "metadata": {
            "tags": []
          },
          "execution_count": 153
        }
      ]
    },
    {
      "cell_type": "code",
      "metadata": {
        "id": "uc1UzyOFzhNY",
        "colab_type": "code",
        "colab": {}
      },
      "source": [
        "def matching_score(k, query):\n",
        "    preprocessed_query = preprocess(query)\n",
        "    tokens = word_tokenize(str(preprocessed_query))\n",
        "    print(\"Matching Score\")\n",
        "    print(\"\\nQuery:\", query)\n",
        "    print(\"\")\n",
        "    print(tokens)    \n",
        "    query_weights = {}\n",
        "    for key in tf_idf:        \n",
        "        if key[1] in tokens:\n",
        "            try:\n",
        "                query_weights[key[0]] += tf_idf[key]\n",
        "            except:\n",
        "                query_weights[key[0]] = tf_idf[key]    \n",
        "    query_weights = sorted(query_weights.items(), key=lambda x: x[1], reverse=True)\n",
        "    print(\"\")    \n",
        "    l = []\n",
        "    \n",
        "    for i in query_weights[:10]:\n",
        "        l.append(i[0])    \n",
        "    print(l)"
      ],
      "execution_count": null,
      "outputs": []
    },
    {
      "cell_type": "code",
      "metadata": {
        "id": "9Dw6TJ40z8Lv",
        "colab_type": "code",
        "colab": {
          "base_uri": "https://localhost:8080/",
          "height": 156
        },
        "outputId": "3f2c1bf5-a4dd-4e74-8bbe-dfcabb0164b4"
      },
      "source": [
        "matching_score(10, squery)"
      ],
      "execution_count": null,
      "outputs": [
        {
          "output_type": "stream",
          "text": [
            "Matching Score\n",
            "\n",
            "Query: What problems and concerns are there in making up descriptive titles? What difficulties are involved in automatically retrieving articles from approximate titles? What is the usual relevance of the content of articles to their titles?\n",
            "\n",
            "['problem', 'concern', 'make', 'descript', 'titl', 'difficulti', 'involv', 'automat', 'retriev', 'articl', 'approxim', 'titl', 'usual', 'relev', 'content', 'articl', 'titl']\n",
            "\n",
            "[1293, 448, 446, 314, 1280, 443, 428, 564, 721, 1162]\n"
          ],
          "name": "stdout"
        }
      ]
    },
    {
      "cell_type": "code",
      "metadata": {
        "id": "tOvDr01d0Klu",
        "colab_type": "code",
        "colab": {}
      },
      "source": [
        "def cosine_sim(a, b):\n",
        "    cos_sim = np.dot(a, b)/(np.linalg.norm(a)*np.linalg.norm(b))\n",
        "    return cos_sim"
      ],
      "execution_count": null,
      "outputs": []
    },
    {
      "cell_type": "code",
      "metadata": {
        "id": "f1KyJtwM0fyw",
        "colab_type": "code",
        "colab": {}
      },
      "source": [
        "D = np.zeros((N, total_vocab_size))\n",
        "for i in tf_idf:\n",
        "    try:\n",
        "        ind = total_vocab.index(i[1])\n",
        "        D[i[0]][ind] = tf_idf[i]\n",
        "    except:\n",
        "        pass"
      ],
      "execution_count": null,
      "outputs": []
    },
    {
      "cell_type": "code",
      "metadata": {
        "id": "eSIhv9ox0lLc",
        "colab_type": "code",
        "colab": {}
      },
      "source": [
        "def gen_vector(tokens):\n",
        "    Q = np.zeros((len(total_vocab)))\n",
        "    counter = Counter(tokens)\n",
        "    words_count = len(tokens)\n",
        "    query_weights = {}\n",
        "    for token in np.unique(tokens):   \n",
        "        tf = counter[token]/words_count\n",
        "        df = doc_freq(token)\n",
        "        idf = math.log((N+1)/(df+1))\n",
        "        try:\n",
        "            ind = total_vocab.index(token)\n",
        "            Q[ind] = tf*idf\n",
        "        except:\n",
        "            pass\n",
        "    return Q"
      ],
      "execution_count": null,
      "outputs": []
    },
    {
      "cell_type": "code",
      "metadata": {
        "id": "GnwswVva0n1C",
        "colab_type": "code",
        "colab": {}
      },
      "source": [
        "def cosine_similarity(k, query):\n",
        "    print(\"Cosine Similarity\")\n",
        "    preprocessed_query = preprocess(query)\n",
        "    tokens = word_tokenize(str(preprocessed_query))\n",
        "    print(\"\\nQuery:\", query)\n",
        "    print(\"\")\n",
        "    #print(tokens)\n",
        "    d_cosines = []\n",
        "    query_vector = gen_vector(tokens)\n",
        "    for d in D:\n",
        "        d_cosines.append(cosine_sim(query_vector, d))\n",
        "    out = np.array(d_cosines).argsort()[-k:][::-1]\n",
        "    print(\"\")  \n",
        "    print(out)\n",
        "    print(\"Cosine similarity\",\" id \", \" Document\")\n",
        "    for i in range(k):\n",
        "      x=out[i]\n",
        "      print(round(d_cosines[x],10),\"    \", out[i],\" \", dataset[x][:100])\n"
      ],
      "execution_count": null,
      "outputs": []
    },
    {
      "cell_type": "code",
      "metadata": {
        "id": "A3yLjitS0r9L",
        "colab_type": "code",
        "colab": {
          "base_uri": "https://localhost:8080/",
          "height": 326
        },
        "outputId": "44bed0e0-622f-45e6-94e4-ed875794b5cc"
      },
      "source": [
        "cosine_similarity(10,squery)"
      ],
      "execution_count": null,
      "outputs": [
        {
          "output_type": "stream",
          "text": [
            "Cosine Similarity\n",
            "\n",
            "Query: What problems and concerns are there in making up descriptive titles? What difficulties are involved in automatically retrieving articles from approximate titles? What is the usual relevance of the content of articles to their titles?\n",
            "\n",
            "\n",
            "[ 721  428  588  602 1280  812 1298  710  835   37]\n",
            "Cosine similarity  id   Document\n",
            "0.3666647354      721   Information Transfer Limitations of Titles of Chemical Documents Bottle, R.R. Seeley, C.R. Some meth\n",
            "0.3389680289      428   The Information Content of Titles in Engineering Literature Bottle, Robert T. Since many alerting an\n",
            "0.3029264456      588   Are Titles of Chemical Papers Becoming More Informative? Tocatlian, Jacques J. The efficiency of key\n",
            "0.264033071      602   The Efficiency of MEDLARS Titles for Retrieval Miller, William L. Previous research has indicated th\n",
            "0.2525271318      1280   Relative Effectiveness of Document Titles and Abstracts for Determining Relevance of Documents Resni\n",
            "0.2125931396      812   Comparative Efficiency of Searching Titles, Abstracts, and Terms in a Free-Text Data Base Barcer, F.\n",
            "0.2086205148      1298   Current Physics Information Koch, H. William A new concept in science communication will be given it\n",
            "0.2046608009      710   Development and Production of Chemical Titles, a Current Awareness Index Publication Prepared with t\n",
            "0.1897121805      835   Entry/Title Compression Code Access to Machine Readable Bibliographic Files Newman, William L. Buchi\n",
            "0.187026511      37   Machinelike Indexing by People Montgomery, C. Swanson, D.R. A study of several thousand entries in a\n"
          ],
          "name": "stdout"
        }
      ]
    },
    {
      "cell_type": "code",
      "metadata": {
        "id": "SSBxbcT99ekH",
        "colab_type": "code",
        "colab": {}
      },
      "source": [
        ""
      ],
      "execution_count": null,
      "outputs": []
    }
  ]
}